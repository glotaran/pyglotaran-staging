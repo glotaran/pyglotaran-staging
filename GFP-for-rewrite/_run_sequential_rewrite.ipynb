{
 "cells": [
  {
   "cell_type": "code",
   "execution_count": null,
   "metadata": {},
   "outputs": [
    {
     "ename": "",
     "evalue": "",
     "output_type": "error",
     "traceback": [
      "\u001b[1;31mRunning cells with 'pygta_staging' requires the ipykernel package.\n",
      "\u001b[1;31mRun the following command to install 'ipykernel' into the Python environment. \n",
      "\u001b[1;31mCommand: 'conda install -n pygta_staging ipykernel --update-deps --force-reinstall'"
     ]
    }
   ],
   "source": [
    "from pyglotaran_extras import plot_data_overview\n",
    "\n",
    "experiment_data = {\n",
    "    \"GFPppH2O\": \"data/gfph2oa.ascii\",\n",
    "}\n",
    "\n",
    "plot_data_overview(experiment_data[\"GFPppH2O\"], linlog=True, linthresh=1);\n"
   ]
  },
  {
   "cell_type": "code",
   "execution_count": null,
   "metadata": {},
   "outputs": [
    {
     "ename": "",
     "evalue": "",
     "output_type": "error",
     "traceback": [
      "\u001b[1;31mRunning cells with 'pygta_staging' requires the ipykernel package.\n",
      "\u001b[1;31mRun the following command to install 'ipykernel' into the Python environment. \n",
      "\u001b[1;31mCommand: 'conda install -n pygta_staging ipykernel --update-deps --force-reinstall'"
     ]
    }
   ],
   "source": [
    "from glotaran.io import load_scheme\n",
    "# from glotaran.project.scheme import Scheme\n",
    "from glotaran.io import load_parameters\n"
   ]
  },
  {
   "cell_type": "code",
   "execution_count": null,
   "metadata": {},
   "outputs": [
    {
     "ename": "",
     "evalue": "",
     "output_type": "error",
     "traceback": [
      "\u001b[1;31mRunning cells with 'pygta_staging' requires the ipykernel package.\n",
      "\u001b[1;31mRun the following command to install 'ipykernel' into the Python environment. \n",
      "\u001b[1;31mCommand: 'conda install -n pygta_staging ipykernel --update-deps --force-reinstall'"
     ]
    }
   ],
   "source": [
    "parameters = load_parameters(\"models/parameters_sequential.yml\", format_name=\"yml\")\n"
   ]
  },
  {
   "cell_type": "code",
   "execution_count": null,
   "metadata": {},
   "outputs": [
    {
     "ename": "",
     "evalue": "",
     "output_type": "error",
     "traceback": [
      "\u001b[1;31mRunning cells with 'pygta_staging' requires the ipykernel package.\n",
      "\u001b[1;31mRun the following command to install 'ipykernel' into the Python environment. \n",
      "\u001b[1;31mCommand: 'conda install -n pygta_staging ipykernel --update-deps --force-reinstall'"
     ]
    }
   ],
   "source": [
    "scheme = load_scheme(\"models/model_sequential_rewrite.yml\", format_name=\"yml\")\n"
   ]
  },
  {
   "cell_type": "code",
   "execution_count": null,
   "metadata": {},
   "outputs": [
    {
     "ename": "",
     "evalue": "",
     "output_type": "error",
     "traceback": [
      "\u001b[1;31mRunning cells with 'pygta_staging' requires the ipykernel package.\n",
      "\u001b[1;31mRun the following command to install 'ipykernel' into the Python environment. \n",
      "\u001b[1;31mCommand: 'conda install -n pygta_staging ipykernel --update-deps --force-reinstall'"
     ]
    }
   ],
   "source": [
    "from glotaran.io import load_dataset\n",
    "scheme.load_data({\"GFPppH2O\": load_dataset(\"data/gfph2oa.ascii\")})\n"
   ]
  },
  {
   "cell_type": "code",
   "execution_count": null,
   "metadata": {},
   "outputs": [
    {
     "ename": "",
     "evalue": "",
     "output_type": "error",
     "traceback": [
      "\u001b[1;31mRunning cells with 'pygta_staging' requires the ipykernel package.\n",
      "\u001b[1;31mRun the following command to install 'ipykernel' into the Python environment. \n",
      "\u001b[1;31mCommand: 'conda install -n pygta_staging ipykernel --update-deps --force-reinstall'"
     ]
    }
   ],
   "source": [
    "result = scheme.optimize(parameters,  maximum_number_function_evaluations=11)\n"
   ]
  },
  {
   "cell_type": "code",
   "execution_count": null,
   "metadata": {},
   "outputs": [
    {
     "ename": "",
     "evalue": "",
     "output_type": "error",
     "traceback": [
      "\u001b[1;31mRunning cells with 'pygta_staging' requires the ipykernel package.\n",
      "\u001b[1;31mRun the following command to install 'ipykernel' into the Python environment. \n",
      "\u001b[1;31mCommand: 'conda install -n pygta_staging ipykernel --update-deps --force-reinstall'"
     ]
    }
   ],
   "source": [
    "result\n"
   ]
  },
  {
   "cell_type": "code",
   "execution_count": null,
   "metadata": {},
   "outputs": [
    {
     "ename": "",
     "evalue": "",
     "output_type": "error",
     "traceback": [
      "\u001b[1;31mRunning cells with 'pygta_staging' requires the ipykernel package.\n",
      "\u001b[1;31mRun the following command to install 'ipykernel' into the Python environment. \n",
      "\u001b[1;31mCommand: 'conda install -n pygta_staging ipykernel --update-deps --force-reinstall'"
     ]
    }
   ],
   "source": [
    "result.data[\"GFPppH2O\"]\n"
   ]
  },
  {
   "cell_type": "code",
   "execution_count": null,
   "metadata": {},
   "outputs": [
    {
     "ename": "",
     "evalue": "",
     "output_type": "error",
     "traceback": [
      "\u001b[1;31mRunning cells with 'pygta_staging' requires the ipykernel package.\n",
      "\u001b[1;31mRun the following command to install 'ipykernel' into the Python environment. \n",
      "\u001b[1;31mCommand: 'conda install -n pygta_staging ipykernel --update-deps --force-reinstall'"
     ]
    }
   ],
   "source": [
    "result.parameters_optimized\n"
   ]
  },
  {
   "cell_type": "code",
   "execution_count": null,
   "metadata": {},
   "outputs": [
    {
     "ename": "",
     "evalue": "",
     "output_type": "error",
     "traceback": [
      "\u001b[1;31mRunning cells with 'pygta_staging' requires the ipykernel package.\n",
      "\u001b[1;31mRun the following command to install 'ipykernel' into the Python environment. \n",
      "\u001b[1;31mCommand: 'conda install -n pygta_staging ipykernel --update-deps --force-reinstall'"
     ]
    }
   ],
   "source": [
    "# result.data[\"GFPppH2O\"].lifetime_decay\n",
    "# AttributeError: 'Dataset' object has no attribute 'lifetime_decay'\n"
   ]
  },
  {
   "cell_type": "code",
   "execution_count": null,
   "metadata": {},
   "outputs": [
    {
     "ename": "",
     "evalue": "",
     "output_type": "error",
     "traceback": [
      "\u001b[1;31mRunning cells with 'pygta_staging' requires the ipykernel package.\n",
      "\u001b[1;31mRun the following command to install 'ipykernel' into the Python environment. \n",
      "\u001b[1;31mCommand: 'conda install -n pygta_staging ipykernel --update-deps --force-reinstall'"
     ]
    }
   ],
   "source": [
    "result.data[\"GFPppH2O\"].data.plot(x=\"time\",y=\"spectral\",size=2)\n"
   ]
  },
  {
   "cell_type": "code",
   "execution_count": null,
   "metadata": {},
   "outputs": [
    {
     "ename": "",
     "evalue": "",
     "output_type": "error",
     "traceback": [
      "\u001b[1;31mRunning cells with 'pygta_staging' requires the ipykernel package.\n",
      "\u001b[1;31mRun the following command to install 'ipykernel' into the Python environment. \n",
      "\u001b[1;31mCommand: 'conda install -n pygta_staging ipykernel --update-deps --force-reinstall'"
     ]
    }
   ],
   "source": [
    "# fig, axes = result.data[\"GFPppH2O\"].data.plot(x=\"time\",y=\"spectral\",size=2)\n",
    "result.data[\"GFPppH2O\"].data.plot(x=\"time\",y=\"spectral\",size=2)\n",
    "# axes[0].annotate(\"A\", xy=(-0.1, 1), xycoords=\"axes fraction\",fontsize=16)\n"
   ]
  },
  {
   "cell_type": "code",
   "execution_count": null,
   "metadata": {},
   "outputs": [
    {
     "ename": "",
     "evalue": "",
     "output_type": "error",
     "traceback": [
      "\u001b[1;31mRunning cells with 'pygta_staging' requires the ipykernel package.\n",
      "\u001b[1;31mRun the following command to install 'ipykernel' into the Python environment. \n",
      "\u001b[1;31mCommand: 'conda install -n pygta_staging ipykernel --update-deps --force-reinstall'"
     ]
    }
   ],
   "source": [
    "from pyglotaran_extras.plotting.plot_concentrations import plot_concentrations\n",
    "from pyglotaran_extras.plotting.plot_spectra import plot_sas\n",
    "import matplotlib.pyplot as plt\n",
    "\n",
    "\n",
    "def plot_concentration_and_spectra(result_dataset):\n",
    "    # fig, axes = plt.subplots(1, 2, figsize=(18, 7))\n",
    "    fig, axes = plt.subplots(1, 2, figsize=(15, 4))\n",
    "    plot_concentrations(result_dataset,axes[0], center_λ=0, linlog=True)\n",
    "    plot_sas(result_dataset,axes[1])\n",
    "    return fig, axes\n"
   ]
  },
  {
   "cell_type": "code",
   "execution_count": null,
   "metadata": {},
   "outputs": [
    {
     "ename": "",
     "evalue": "",
     "output_type": "error",
     "traceback": [
      "\u001b[1;31mRunning cells with 'pygta_staging' requires the ipykernel package.\n",
      "\u001b[1;31mRun the following command to install 'ipykernel' into the Python environment. \n",
      "\u001b[1;31mCommand: 'conda install -n pygta_staging ipykernel --update-deps --force-reinstall'"
     ]
    }
   ],
   "source": [
    "fig, axes = plot_concentration_and_spectra(result.data[\"GFPppH2O\"])\n",
    "axes[0].set_xlabel(\"Time (ps)\")\n",
    "axes[0].set_ylabel(\"\")\n",
    "axes[0].axhline(0, color=\"k\", linewidth=1)\n",
    "axes[0].annotate(\"A\", xy=(-0.1, 1), xycoords=\"axes fraction\",fontsize=16)\n",
    "axes[1].set_xlabel(\"Wavelength (nm)\")\n",
    "axes[1].set_ylabel(\"SADS (mOD)\")\n",
    "axes[1].set_title(\"SADS\")\n",
    "axes[1].axhline(0, color=\"k\", linewidth=1)\n",
    "axes[1].annotate(\"B\", xy=(-0.1, 1), xycoords=\"axes fraction\",fontsize=16)\n"
   ]
  },
  {
   "cell_type": "code",
   "execution_count": null,
   "metadata": {},
   "outputs": [
    {
     "ename": "",
     "evalue": "",
     "output_type": "error",
     "traceback": [
      "\u001b[1;31mRunning cells with 'pygta_staging' requires the ipykernel package.\n",
      "\u001b[1;31mRun the following command to install 'ipykernel' into the Python environment. \n",
      "\u001b[1;31mCommand: 'conda install -n pygta_staging ipykernel --update-deps --force-reinstall'"
     ]
    }
   ],
   "source": [
    "fig, axes = plot_concentration_and_spectra(result.data[\"GFPppH2O\"])\n",
    "axes[0].set_xlabel(\"Time (ps)\")\n",
    "axes[0].set_ylabel(\"\")\n",
    "axes[0].axhline(0, color=\"k\", linewidth=1)\n",
    "axes[1].set_xlabel(\"Wavelength (nm)\")\n",
    "axes[1].set_ylabel(\"SADS (mOD)\")\n",
    "axes[1].set_title(\"SADS\")\n",
    "axes[1].axhline(0, color=\"k\", linewidth=1)\n"
   ]
  },
  {
   "cell_type": "code",
   "execution_count": null,
   "metadata": {},
   "outputs": [
    {
     "ename": "",
     "evalue": "",
     "output_type": "error",
     "traceback": [
      "\u001b[1;31mRunning cells with 'pygta_staging' requires the ipykernel package.\n",
      "\u001b[1;31mRun the following command to install 'ipykernel' into the Python environment. \n",
      "\u001b[1;31mCommand: 'conda install -n pygta_staging ipykernel --update-deps --force-reinstall'"
     ]
    }
   ],
   "source": [
    "from pyglotaran_extras.plotting.plot_traces import (\n",
    "    plot_fitted_traces,\n",
    "    select_plot_wavelengths,\n",
    ")\n",
    "from pyglotaran_extras.plotting.style import PlotStyle\n",
    "\n",
    "wavelengths = select_plot_wavelengths(\n",
    "    result.data[\"GFPppH2O\"], equidistant_wavelengths=False, axes_shape=(4, 3)\n",
    ")\n",
    "fig3tr, axes = plot_fitted_traces(\n",
    "    result,\n",
    "    wavelengths,\n",
    "    axes_shape=(4, 3),\n",
    "    linlog=True,\n",
    "    linthresh=1,\n",
    "    cycler=PlotStyle().data_cycler_solid_dashed,\n",
    ")\n"
   ]
  },
  {
   "cell_type": "code",
   "execution_count": null,
   "metadata": {},
   "outputs": [
    {
     "ename": "",
     "evalue": "",
     "output_type": "error",
     "traceback": [
      "\u001b[1;31mRunning cells with 'pygta_staging' requires the ipykernel package.\n",
      "\u001b[1;31mRun the following command to install 'ipykernel' into the Python environment. \n",
      "\u001b[1;31mCommand: 'conda install -n pygta_staging ipykernel --update-deps --force-reinstall'"
     ]
    }
   ],
   "source": [
    "import xarray as xr\n",
    "import json\n",
    "\n",
    "def extract_names_from_xarray(ds: xr.Dataset) -> dict:\n",
    "    return {\n",
    "        'coordinate_names': sorted(list(ds.coords.keys())),\n",
    "        'data_variable_names': sorted(list(ds.data_vars.keys())),\n",
    "        'index_names': sorted(list(ds.indexes.keys())),\n",
    "        'attribute_names': sorted(list(ds.attrs.keys())) if ds.attrs else []\n",
    "    }\n",
    "\n",
    "def names_to_json(names: dict) -> str:\n",
    "    return json.dumps(names, indent=4)  # indent added for better visual representation\n",
    "\n",
    "def compare_xarray_names(json1: str, json2: str) -> dict:\n",
    "    dict1 = json.loads(json1)\n",
    "    dict2 = json.loads(json2)\n",
    "\n",
    "    result = {}\n",
    "    for key in ['coordinate_names', 'data_variable_names', 'index_names', 'attribute_names']:\n",
    "        set1 = set(dict1[key])\n",
    "        set2 = set(dict2[key])\n",
    "\n",
    "        result[key] = {\n",
    "            'common': sorted(list(set1 & set2)),\n",
    "            'unique_to_1': sorted(list(set1 - set2)),\n",
    "            'unique_to_2': sorted(list(set2 - set1)),\n",
    "        }\n",
    "\n",
    "    return result\n",
    "\n"
   ]
  },
  {
   "cell_type": "code",
   "execution_count": null,
   "metadata": {},
   "outputs": [
    {
     "ename": "",
     "evalue": "",
     "output_type": "error",
     "traceback": [
      "\u001b[1;31mRunning cells with 'pygta_staging' requires the ipykernel package.\n",
      "\u001b[1;31mRun the following command to install 'ipykernel' into the Python environment. \n",
      "\u001b[1;31mCommand: 'conda install -n pygta_staging ipykernel --update-deps --force-reinstall'"
     ]
    }
   ],
   "source": [
    "names_rewrite=names_to_json(extract_names_from_xarray(result.data[\"GFPppH2O\"]))\n",
    "names_original='{\\n    \"coordinate_names\": [\\n        \"clp_label\",\\n        \"coherent_artifact_order\",\\n        \"component_decay\",\\n        \"from_species_decay\",\\n        \"initial_concentration_decay\",\\n        \"lifetime_decay\",\\n        \"rate_decay\",\\n        \"species\",\\n        \"species_decay\",\\n        \"spectral\",\\n        \"time\",\\n        \"to_species_decay\"\\n    ],\\n    \"data_variable_names\": [\\n        \"a_matrix_decay\",\\n        \"center_dispersion_1\",\\n        \"clp\",\\n        \"coherent_artifact_associated_spectra\",\\n        \"coherent_artifact_response\",\\n        \"data\",\\n        \"data_left_singular_vectors\",\\n        \"data_right_singular_vectors\",\\n        \"data_singular_values\",\\n        \"decay_associated_spectra_decay\",\\n        \"fitted_data\",\\n        \"initial_concentration\",\\n        \"irf\",\\n        \"irf_center\",\\n        \"irf_center_location\",\\n        \"irf_width\",\\n        \"k_matrix_decay\",\\n        \"k_matrix_reduced_decay\",\\n        \"matrix\",\\n        \"residual\",\\n        \"residual_left_singular_vectors\",\\n        \"residual_right_singular_vectors\",\\n        \"residual_singular_values\",\\n        \"species_associated_spectra\",\\n        \"species_concentration\"\\n    ],\\n    \"index_names\": [\\n        \"clp_label\",\\n        \"coherent_artifact_order\",\\n        \"component_decay\",\\n        \"from_species_decay\",\\n        \"species\",\\n        \"species_decay\",\\n        \"spectral\",\\n        \"time\",\\n        \"to_species_decay\"\\n    ],\\n    \"attribute_names\": [\\n        \"dataset_scale\",\\n        \"global_dimension\",\\n        \"loader\",\\n        \"model_dimension\",\\n        \"root_mean_square_error\",\\n        \"source_path\",\\n        \"weighted_root_mean_square_error\"\\n    ]\\n}'\n"
   ]
  },
  {
   "cell_type": "code",
   "execution_count": null,
   "metadata": {},
   "outputs": [
    {
     "ename": "",
     "evalue": "",
     "output_type": "error",
     "traceback": [
      "\u001b[1;31mRunning cells with 'pygta_staging' requires the ipykernel package.\n",
      "\u001b[1;31mRun the following command to install 'ipykernel' into the Python environment. \n",
      "\u001b[1;31mCommand: 'conda install -n pygta_staging ipykernel --update-deps --force-reinstall'"
     ]
    }
   ],
   "source": [
    "from rich import print\n",
    "print(compare_xarray_names(names_rewrite, names_original))\n"
   ]
  }
 ],
 "metadata": {
  "kernelspec": {
   "display_name": "pygta_rewrite",
   "language": "python",
   "name": "python3"
  },
  "language_info": {
   "codemirror_mode": {
    "name": "ipython",
    "version": 3
   },
   "file_extension": ".py",
   "mimetype": "text/x-python",
   "name": "python",
   "nbconvert_exporter": "python",
   "pygments_lexer": "ipython3",
   "version": "3.10.13"
  }
 },
 "nbformat": 4,
 "nbformat_minor": 2
}
