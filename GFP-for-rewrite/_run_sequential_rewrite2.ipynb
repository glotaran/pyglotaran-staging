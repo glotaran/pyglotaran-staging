{
 "cells": [
  {
   "cell_type": "code",
   "execution_count": null,
   "metadata": {},
   "outputs": [],
   "source": [
    "from pyglotaran_extras import plot_data_overview\n",
    "\n",
    "experiment_data = {\n",
    "    \"GFPppH2O\": \"data/gfph2oa.ascii\",\n",
    "}\n",
    "\n",
    "plot_data_overview(experiment_data[\"GFPppH2O\"], linlog=True, linthresh=1,cmap=\"seismic\",datamin=-50,datamax=50);\n"
   ]
  },
  {
   "cell_type": "code",
   "execution_count": null,
   "metadata": {},
   "outputs": [],
   "source": [
    "from glotaran.io import load_scheme\n",
    "# from glotaran.project.scheme import Scheme\n",
    "from glotaran.io import load_parameters\n"
   ]
  },
  {
   "cell_type": "code",
   "execution_count": null,
   "metadata": {},
   "outputs": [],
   "source": [
    "parameters = load_parameters(\"models/parameters_sequential2.yml\", format_name=\"yml\")\n"
   ]
  },
  {
   "cell_type": "code",
   "execution_count": null,
   "metadata": {},
   "outputs": [],
   "source": [
    "parameters\n"
   ]
  },
  {
   "cell_type": "code",
   "execution_count": null,
   "metadata": {},
   "outputs": [],
   "source": [
    "scheme = load_scheme(\"models/model_sequential_rewrite2.yml\", format_name=\"yml\")\n"
   ]
  },
  {
   "cell_type": "code",
   "execution_count": null,
   "metadata": {},
   "outputs": [],
   "source": [
    "from glotaran.io import load_dataset\n",
    "scheme.load_data({\"GFPppH2O\": load_dataset(\"data/gfph2oa.ascii\"),\"GFPpdpH2O\": load_dataset(\"data/gfph2ob.ascii\")})\n"
   ]
  },
  {
   "cell_type": "code",
   "execution_count": null,
   "metadata": {},
   "outputs": [],
   "source": [
    "result = scheme.optimize(parameters,  maximum_number_function_evaluations=11)\n"
   ]
  },
  {
   "cell_type": "code",
   "execution_count": null,
   "metadata": {},
   "outputs": [],
   "source": [
    "result.data[\"renamed_pp\"]=result.data[\"GFPppH2O\"].rename({\"species_associated_estimation\":\"species_associated_spectra\"})\n",
    "result.data[\"renamed_pdp\"]=result.data[\"GFPpdpH2O\"].rename({\"species_associated_estimation\":\"species_associated_spectra\"})\n"
   ]
  },
  {
   "cell_type": "code",
   "execution_count": null,
   "metadata": {},
   "outputs": [],
   "source": [
    "result.data[\"GFPppH2O\"].a_matrix\n"
   ]
  },
  {
   "cell_type": "code",
   "execution_count": null,
   "metadata": {},
   "outputs": [],
   "source": [
    "result.data[\"renamed_pp\"]\n"
   ]
  },
  {
   "cell_type": "code",
   "execution_count": null,
   "metadata": {},
   "outputs": [],
   "source": [
    "result.parameters_optimized\n"
   ]
  },
  {
   "cell_type": "code",
   "execution_count": null,
   "metadata": {},
   "outputs": [],
   "source": [
    "# result.data[\"GFPppH2O\"].lifetime_decay\n",
    "# AttributeError: 'Dataset' object has no attribute 'lifetime_decay'\n"
   ]
  },
  {
   "cell_type": "code",
   "execution_count": null,
   "metadata": {},
   "outputs": [],
   "source": [
    "result.data[\"GFPppH2O\"].data.plot(x=\"time\",y=\"spectral\",size=2)\n"
   ]
  },
  {
   "cell_type": "code",
   "execution_count": null,
   "metadata": {},
   "outputs": [],
   "source": [
    "# fig, axes = result.data[\"GFPppH2O\"].data.plot(x=\"time\",y=\"spectral\",size=2)\n",
    "result.data[\"GFPppH2O\"].data.plot(x=\"time\",y=\"spectral\",size=2)\n",
    "# axes[0].annotate(\"A\", xy=(-0.1, 1), xycoords=\"axes fraction\",fontsize=16)\n"
   ]
  },
  {
   "cell_type": "code",
   "execution_count": null,
   "metadata": {},
   "outputs": [],
   "source": [
    "from pyglotaran_extras.plotting.plot_concentrations import plot_concentrations\n",
    "from pyglotaran_extras.plotting.plot_spectra import plot_sas, plot_norm_sas\n",
    "import matplotlib.pyplot as plt\n",
    "\n",
    "\n",
    "def plot_concentration_and_spectra(result_dataset):\n",
    "    # fig, axes = plt.subplots(1, 2, figsize=(18, 7))\n",
    "    fig, axes = plt.subplots(1, 3, figsize=(15, 4))\n",
    "    plot_concentrations(result_dataset,axes[0], center_λ=0, linlog=True)\n",
    "    plot_sas(result_dataset,axes[1])\n",
    "    plot_norm_sas(result_dataset,axes[2])\n",
    "    return fig, axes\n"
   ]
  },
  {
   "cell_type": "code",
   "execution_count": null,
   "metadata": {},
   "outputs": [],
   "source": [
    "fig, axes = plot_concentration_and_spectra(result.data[\"renamed_pp\"])\n",
    "axes[0].set_xlabel(\"Time (ps)\")\n",
    "axes[0].set_ylabel(\"\")\n",
    "axes[0].axhline(0, color=\"k\", linewidth=1)\n",
    "axes[0].annotate(\"A\", xy=(-0.1, 1), xycoords=\"axes fraction\",fontsize=16)\n",
    "axes[1].set_xlabel(\"Wavelength (nm)\")\n",
    "axes[1].set_ylabel(\"SADS (mOD)\")\n",
    "axes[1].set_title(\"SADS\")\n",
    "axes[1].axhline(0, color=\"k\", linewidth=1)\n",
    "axes[1].annotate(\"B\", xy=(-0.1, 1), xycoords=\"axes fraction\",fontsize=16)\n"
   ]
  },
  {
   "cell_type": "code",
   "execution_count": null,
   "metadata": {},
   "outputs": [],
   "source": [
    "data_array = result.data[\"renamed_pdp\"].coherent_artifact_associated_estimation\n",
    "\n",
    "import matplotlib.pyplot as plt\n",
    "\n",
    "# Assuming `data_array` is your DataArray\n",
    "plt.plot(data_array.coords['spectral'], data_array.values[0][0])\n",
    "plt.plot(data_array.coords['spectral'], data_array.values[0][1]) # is all nan\n",
    "plt.xlabel('Spectral')\n",
    "plt.ylabel('Value')\n",
    "plt.title('2D Line Plot')\n",
    "plt.show()\n",
    "\n",
    "data_array.values[0][1][0:10]\n"
   ]
  },
  {
   "cell_type": "code",
   "execution_count": null,
   "metadata": {},
   "outputs": [],
   "source": [
    "fig, axes = plot_concentration_and_spectra(result.data[\"renamed_pdp\"])\n",
    "axes[0].set_xlabel(\"Time (ps)\")\n",
    "axes[0].set_ylabel(\"\")\n",
    "axes[0].axhline(0, color=\"k\", linewidth=1)\n",
    "axes[1].set_xlabel(\"Wavelength (nm)\")\n",
    "axes[1].set_ylabel(\"SADS (mOD)\")\n",
    "axes[1].set_title(\"SADS\")\n",
    "axes[1].axhline(0, color=\"k\", linewidth=1)\n"
   ]
  },
  {
   "cell_type": "code",
   "execution_count": null,
   "metadata": {},
   "outputs": [],
   "source": [
    "from pyglotaran_extras.plotting.plot_traces import (\n",
    "    plot_fitted_traces,\n",
    "    select_plot_wavelengths,\n",
    ")\n",
    "from pyglotaran_extras.plotting.style import PlotStyle\n",
    "\n",
    "wavelengths = select_plot_wavelengths(\n",
    "    result.data[\"GFPppH2O\"], equidistant_wavelengths=False, axes_shape=(4, 3)\n",
    ")\n",
    "fig3tr, axes = plot_fitted_traces(\n",
    "    result,\n",
    "    wavelengths,\n",
    "    axes_shape=(4, 3),\n",
    "    linlog=True,\n",
    "    linthresh=1,\n",
    "    cycler=PlotStyle().data_cycler_solid_dashed,\n",
    ")\n"
   ]
  },
  {
   "cell_type": "code",
   "execution_count": null,
   "metadata": {},
   "outputs": [],
   "source": [
    "from rich import print\n",
    "print(names_to_json(extract_names_from_xarray(result.data[\"GFPpdpH2O\"])))\n"
   ]
  },
  {
   "cell_type": "code",
   "execution_count": null,
   "metadata": {},
   "outputs": [],
   "source": [
    "result.data[\"GFPpdpH2O\"].scale\n"
   ]
  },
  {
   "cell_type": "markdown",
   "metadata": {},
   "source": [
    "Object inspection (debugging)"
   ]
  },
  {
   "cell_type": "code",
   "execution_count": null,
   "metadata": {},
   "outputs": [],
   "source": [
    "import xarray as xr\n",
    "import json\n",
    "\n",
    "\n",
    "def extract_names_from_xarray(ds: xr.Dataset) -> dict:\n",
    "    return {\n",
    "        \"coordinate_names\": list(ds.coords.keys()),\n",
    "        \"data_variable_names\": list(ds.data_vars.keys()),\n",
    "        \"index_names\": list(ds.indexes.keys()),\n",
    "        \"attribute_names\": list(ds.attrs.keys()) if ds.attrs else [],\n",
    "    }\n",
    "\n",
    "\n",
    "def names_to_json(names: dict) -> str:\n",
    "    return json.dumps(names)\n",
    "\n",
    "\n",
    "def compare_xarray_names(json1: str, json2: str) -> dict:\n",
    "    dict1 = json.loads(json1)\n",
    "    dict2 = json.loads(json2)\n",
    "\n",
    "    result = {}\n",
    "    for key in [\n",
    "        \"coordinate_names\",\n",
    "        \"data_variable_names\",\n",
    "        \"index_names\",\n",
    "        \"attribute_names\",\n",
    "    ]:\n",
    "        set1 = set(dict1[key])\n",
    "        set2 = set(dict2[key])\n",
    "\n",
    "        result[key] = {\n",
    "            \"common\": list(set1 & set2),\n",
    "            \"unique_to_1\": list(set1 - set2),\n",
    "            \"unique_to_2\": list(set2 - set1),\n",
    "        }\n",
    "\n",
    "    return result\n"
   ]
  },
  {
   "cell_type": "code",
   "execution_count": null,
   "metadata": {},
   "outputs": [],
   "source": [
    "from rich import print\n",
    "print(extract_names_from_xarray(result.data[\"GFPpdpH2O\"]))\n"
   ]
  }
 ],
 "metadata": {
  "kernelspec": {
   "display_name": "pygta_rewrite",
   "language": "python",
   "name": "python3"
  },
  "language_info": {
   "codemirror_mode": {
    "name": "ipython",
    "version": 3
   },
   "file_extension": ".py",
   "mimetype": "text/x-python",
   "name": "python",
   "nbconvert_exporter": "python",
   "pygments_lexer": "ipython3",
   "version": "3.10.13"
  }
 },
 "nbformat": 4,
 "nbformat_minor": 2
}
