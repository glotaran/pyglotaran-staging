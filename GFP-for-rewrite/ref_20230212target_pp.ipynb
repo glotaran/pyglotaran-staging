{
 "cells": [
  {
   "attachments": {},
   "cell_type": "markdown",
   "id": "14406728",
   "metadata": {},
   "source": [
    "# Case study - GFP - introducing the pump dump probe\n"
   ]
  },
  {
   "attachments": {},
   "cell_type": "markdown",
   "id": "7dfc7b1f",
   "metadata": {},
   "source": [
    "Kennis JTM, Larsen DS, van Stokkum IHM, Vengris M, van Thor JJ, van Grondelle R (2004) Uncovering the hidden ground state of green fluorescent protein. Proc Natl Acad Sci U S A 101 (52):17988-17993. doi:10.1073/pnas.0404262102"
   ]
  },
  {
   "attachments": {},
   "cell_type": "markdown",
   "id": "608df0d8",
   "metadata": {},
   "source": [
    "![figureGFP](./GFP.png)\n",
    "\n",
    "The photocycle of GFP\n"
   ]
  },
  {
   "attachments": {},
   "cell_type": "markdown",
   "id": "06820264",
   "metadata": {},
   "source": [
    "## Define and inspect data\n"
   ]
  },
  {
   "cell_type": "code",
   "execution_count": null,
   "id": "edacb9ae",
   "metadata": {
    "tags": []
   },
   "outputs": [],
   "source": [
    "from pyglotaran_extras import plot_data_overview\n",
    "\n",
    "experiment_data = {\n",
    "    \"GFPppH2O\": \"data/gfph2oa.ascii\",\n",
    "}\n",
    "\n",
    "plot_data_overview(experiment_data[\"GFPppH2O\"], linlog=True, linthresh=1)\n"
   ]
  },
  {
   "attachments": {},
   "cell_type": "markdown",
   "id": "64164546",
   "metadata": {},
   "source": [
    "## Model and parameter definitions\n"
   ]
  },
  {
   "cell_type": "code",
   "execution_count": null,
   "id": "7b14b7ec",
   "metadata": {},
   "outputs": [],
   "source": [
    "from glotaran.utils.ipython import display_file\n",
    "\n",
    "model_path = \"models/model_target.yml\"\n",
    "# display_file(model_path, syntax=\"yaml\")\n"
   ]
  },
  {
   "cell_type": "code",
   "execution_count": null,
   "id": "e6eb359f",
   "metadata": {},
   "outputs": [],
   "source": [
    "parameters_file_path = \"models/parameters_target.yml\"\n",
    "# display_file(parameters_file_path, syntax=\"yaml\")\n"
   ]
  },
  {
   "attachments": {},
   "cell_type": "markdown",
   "id": "58a0a8c4",
   "metadata": {},
   "source": [
    "# Optimization\n"
   ]
  },
  {
   "cell_type": "code",
   "execution_count": null,
   "id": "24084c84",
   "metadata": {},
   "outputs": [],
   "source": [
    "from glotaran.optimization.optimize import optimize\n",
    "from glotaran.project.scheme import Scheme\n",
    "\n",
    "scheme = Scheme(\n",
    "    model_path,\n",
    "    parameters_file_path,\n",
    "    experiment_data,\n",
    "    maximum_number_function_evaluations=11,\n",
    ")\n",
    "result = optimize(scheme)\n"
   ]
  },
  {
   "attachments": {},
   "cell_type": "markdown",
   "id": "8036859b",
   "metadata": {},
   "source": [
    "-   10             11         3.2148e+03\n",
    "-   10             11         3.1442e+03 sequential 4 EADS\n",
    "-   10             11         3.1928e+03  target 3 SADS\n"
   ]
  },
  {
   "attachments": {},
   "cell_type": "markdown",
   "id": "1a9e41ae",
   "metadata": {},
   "source": [
    "## Inspect fit quality\n"
   ]
  },
  {
   "cell_type": "code",
   "execution_count": null,
   "id": "b1b45371",
   "metadata": {},
   "outputs": [],
   "source": [
    "result\n"
   ]
  },
  {
   "cell_type": "code",
   "execution_count": null,
   "id": "b1b45371",
   "metadata": {},
   "outputs": [],
   "source": [
    "result.optimized_parameters\n"
   ]
  },
  {
   "cell_type": "code",
   "execution_count": null,
   "id": "b1b45371",
   "metadata": {},
   "outputs": [],
   "source": [
    "result.data[\"GFPppH2O\"].lifetime_decay\n"
   ]
  },
  {
   "cell_type": "code",
   "execution_count": null,
   "id": "596b6ede",
   "metadata": {},
   "outputs": [],
   "source": [
    "result.data[\"GFPppH2O\"].data.plot(x=\"time\",y=\"spectral\",size=2)\n"
   ]
  },
  {
   "cell_type": "code",
   "execution_count": null,
   "id": "596b6ede",
   "metadata": {},
   "outputs": [],
   "source": [
    "# fig, axes = result.data[\"GFPppH2O\"].data.plot(x=\"time\",y=\"spectral\",size=2)\n",
    "result.data[\"GFPppH2O\"].data.plot(x=\"time\",y=\"spectral\",size=2)\n",
    "# axes[0].annotate(\"A\", xy=(-0.1, 1), xycoords=\"axes fraction\",fontsize=16)\n"
   ]
  },
  {
   "cell_type": "code",
   "execution_count": null,
   "id": "500d099a",
   "metadata": {},
   "outputs": [],
   "source": [
    "from glotaran.io import save_dataset, save_result\n",
    "save_result(\n",
    "        result=result,\n",
    "        result_path=\"20230212/result.yaml\",\n",
    "        allow_overwrite=True,\n",
    "    )\n"
   ]
  },
  {
   "cell_type": "code",
   "execution_count": null,
   "id": "e0442a65",
   "metadata": {},
   "outputs": [],
   "source": [
    "from pyglotaran_extras.plotting.plot_concentrations import plot_concentrations\n",
    "from pyglotaran_extras.plotting.plot_spectra import plot_sas\n",
    "import matplotlib.pyplot as plt\n",
    "\n",
    "\n",
    "def plot_concentration_and_spectra(result_dataset):\n",
    "    # fig, axes = plt.subplots(1, 2, figsize=(18, 7))\n",
    "    fig, axes = plt.subplots(1, 2, figsize=(15, 4))\n",
    "    plot_concentrations(result_dataset,axes[0], center_λ=0, linlog=True)\n",
    "    plot_sas(result_dataset,axes[1])\n",
    "    return fig, axes\n",
    "\n",
    "fig, axes = plot_concentration_and_spectra(result.data[\"GFPppH2O\"])\n",
    "axes[0].set_xlabel(\"Time (ps)\")\n",
    "axes[0].set_ylabel(\"\")\n",
    "axes[0].axhline(0, color=\"k\", linewidth=1)\n",
    "axes[0].annotate(\"A\", xy=(-0.1, 1), xycoords=\"axes fraction\",fontsize=16)\n",
    "axes[1].set_xlabel(\"Wavelength (nm)\")\n",
    "axes[1].set_ylabel(\"SADS (mOD)\")\n",
    "axes[1].set_title(\"SADS\")\n",
    "axes[1].axhline(0, color=\"k\", linewidth=1)\n",
    "axes[1].annotate(\"B\", xy=(-0.1, 1), xycoords=\"axes fraction\",fontsize=16)\n"
   ]
  },
  {
   "cell_type": "code",
   "execution_count": null,
   "id": "e0442a65",
   "metadata": {},
   "outputs": [],
   "source": [
    "from pyglotaran_extras.plotting.plot_concentrations import plot_concentrations\n",
    "from pyglotaran_extras.plotting.plot_spectra import plot_sas\n",
    "import matplotlib.pyplot as plt\n",
    "\n",
    "\n",
    "def plot_concentration_and_spectra(result_dataset):\n",
    "    # fig, axes = plt.subplots(1, 2, figsize=(18, 7))\n",
    "    fig, axes = plt.subplots(1, 2, figsize=(15, 4))\n",
    "    plot_concentrations(result_dataset,axes[0], center_λ=0, linlog=True)\n",
    "    plot_sas(result_dataset,axes[1])\n",
    "    return fig, axes\n",
    "\n",
    "fig, axes = plot_concentration_and_spectra(result.data[\"GFPppH2O\"])\n",
    "axes[0].set_xlabel(\"Time (ps)\")\n",
    "axes[0].set_ylabel(\"\")\n",
    "axes[0].axhline(0, color=\"k\", linewidth=1)\n",
    "axes[1].set_xlabel(\"Wavelength (nm)\")\n",
    "axes[1].set_ylabel(\"SADS (mOD)\")\n",
    "axes[1].set_title(\"SADS\")\n",
    "axes[1].axhline(0, color=\"k\", linewidth=1)\n"
   ]
  },
  {
   "attachments": {},
   "cell_type": "markdown",
   "id": "0f2c918d",
   "metadata": {},
   "source": [
    "## Plot fitted traces\n"
   ]
  },
  {
   "cell_type": "code",
   "execution_count": null,
   "id": "1139ec2a",
   "metadata": {},
   "outputs": [],
   "source": [
    "from pyglotaran_extras.plotting.plot_traces import (\n",
    "    plot_fitted_traces,\n",
    "    select_plot_wavelengths,\n",
    ")\n",
    "from pyglotaran_extras.plotting.style import PlotStyle\n",
    "\n",
    "wavelengths = select_plot_wavelengths(\n",
    "    result.data[\"GFPppH2O\"], equidistant_wavelengths=False, axes_shape=(4, 3)\n",
    ")\n",
    "fig3tr, axes = plot_fitted_traces(\n",
    "    result,\n",
    "    wavelengths,\n",
    "    axes_shape=(4, 3),\n",
    "    linlog=True,\n",
    "    linthresh=1,\n",
    "    cycler=PlotStyle().data_cycler_solid_dashed,\n",
    ")\n"
   ]
  },
  {
   "attachments": {},
   "cell_type": "markdown",
   "id": "2cc88941",
   "metadata": {},
   "source": [
    "### Compare fit to original paper\n"
   ]
  },
  {
   "cell_type": "code",
   "execution_count": null,
   "id": "1139ec2a",
   "metadata": {},
   "outputs": [],
   "source": [
    "from pyglotaran_extras.plotting.plot_traces import (\n",
    "    plot_fitted_traces,\n",
    "    select_plot_wavelengths,\n",
    ")\n",
    "from cycler import cycler\n",
    "\n",
    "wavelengths = [406, 445, 510, 601]\n",
    "fig3tr, axes = plot_fitted_traces(\n",
    "    result,\n",
    "    wavelengths,\n",
    "    axes_shape=(2, 2),\n",
    "    linlog=True,\n",
    "    linthresh=1,\n",
    "    cycler=cycler(color=[\"r\", \"k\"]), # change plot colors\n",
    "    # figsize=(10, 5),\n",
    "    figsize=(8, 4),\n",
    ")\n",
    "\n",
    "# Add thin line at zero to all plots\n",
    "for ax in axes.flatten():\n",
    "    ax.axhline(0, color=\"k\", linewidth=1)\n",
    "    ax.set_xlabel(\"Time (ps)\")\n",
    "    ax.set_ylabel(\"\")\n"
   ]
  },
  {
   "cell_type": "code",
   "execution_count": null,
   "id": "1139ec2a",
   "metadata": {},
   "outputs": [],
   "source": [
    "from pyglotaran_extras.plotting.plot_traces import (\n",
    "    plot_fitted_traces,\n",
    "    select_plot_wavelengths,\n",
    ")\n",
    "from cycler import cycler\n",
    "\n",
    "wavelengths = [406, 601]\n",
    "fig3tr, axes = plot_fitted_traces(\n",
    "    result,\n",
    "    wavelengths,\n",
    "    axes_shape=(1, 2),\n",
    "    linlog=True,\n",
    "    linthresh=1,\n",
    "    cycler=cycler(color=[\"r\", \"k\"]), # change plot colors\n",
    "    # figsize=(10, 5),\n",
    "    figsize=(8, 3),\n",
    ")\n",
    "\n",
    "# Add thin line at zero to all plots\n",
    "for ax in axes.flatten():\n",
    "    ax.axhline(0, color=\"k\", linewidth=1)\n",
    "    ax.set_xlabel(\"Time (ps)\")\n",
    "    ax.set_ylabel(\"\")\n"
   ]
  },
  {
   "attachments": {},
   "cell_type": "markdown",
   "id": "7a410b2e",
   "metadata": {},
   "source": [
    "## Overview\n"
   ]
  },
  {
   "cell_type": "code",
   "execution_count": null,
   "id": "8be30fd6",
   "metadata": {},
   "outputs": [],
   "source": [
    "from pyglotaran_extras import plot_overview\n",
    "\n",
    "fig, axes = plot_overview(result, linlog=True, linthresh=1, figure_only=False,nr_of_residual_svd_vectors=1)\n",
    "\n",
    "# Add thin line at zero to SAS and DAS plots\n",
    "for ax in axes[0:2, 1:3].flatten():\n",
    "    ax.axhline(0, color=\"k\", linewidth=1)\n"
   ]
  },
  {
   "cell_type": "code",
   "execution_count": null,
   "id": "2f29731c",
   "metadata": {},
   "outputs": [],
   "source": [
    "from pyglotaran_extras import plot_coherent_artifact\n",
    "\n",
    "irfas_plot_wavelength = 550\n",
    "\n",
    "fig, axes = plot_coherent_artifact(\n",
    "    result.data[\"GFPppH2O\"], time_range=(-1, 1), spectral=irfas_plot_wavelength,figsize=(10, 2.5)\n",
    ")\n",
    "axes[0].set_xlabel(\"Time (ps)\")\n",
    "axes[0].get_legend().remove()\n",
    "axes[1].set_xlabel(\"Wavelength (nm)\")\n",
    "axes[0].set_ylabel(\"\")\n"
   ]
  },
  {
   "cell_type": "code",
   "execution_count": null,
   "id": "2f29731c",
   "metadata": {},
   "outputs": [],
   "source": [
    "from pyglotaran_extras import plot_coherent_artifact\n",
    "\n",
    "irfas_plot_wavelength = 550\n",
    "\n",
    "fig, axes = plot_coherent_artifact(\n",
    "    result.data[\"GFPppH2O\"], time_range=(-0.1, 0.1), spectral=irfas_plot_wavelength,figsize=(10, 2.5)\n",
    ")\n",
    "axes[0].set_xlabel(\"Time (ps)\")\n",
    "axes[0].get_legend().remove()\n",
    "axes[1].set_xlabel(\"Wavelength (nm)\")\n",
    "axes[0].set_ylabel(\"\")\n",
    "axes[0].annotate(\"A\", xy=(0.01, 0.9), xycoords=\"axes fraction\",fontsize=16)\n",
    "axes[1].annotate(\"B\", xy=(0.01, 0.9), xycoords=\"axes fraction\",fontsize=16)\n"
   ]
  },
  {
   "cell_type": "code",
   "execution_count": null,
   "id": "729d2173",
   "metadata": {},
   "outputs": [],
   "source": [
    "from pyglotaran_extras.plotting.plot_residual import plot_residual\n",
    "from pyglotaran_extras.plotting.plot_svd import plot_lsv_residual,plot_rsv_residual\n",
    "\n",
    "def plot_residual_and_svd(result_dataset):\n",
    "    fig, axes = plt.subplots(1, 3, figsize=(20, 4))\n",
    "    plot_residual(result_dataset,axes[0])\n",
    "    plot_lsv_residual(result_dataset,axes[1],indices=[0])\n",
    "    plot_rsv_residual(result_dataset,axes[2],indices=[0])\n",
    "\n",
    "    return fig, axes\n",
    "\n",
    "fig, axes = plot_residual_and_svd(result.data[\"GFPppH2O\"])\n",
    "\n",
    "# Remove legend\n",
    "axes[0].get_legend().remove()\n",
    "axes[1].get_legend().remove()\n",
    "axes[2].get_legend().remove()\n",
    "\n",
    "# Change y-label (use `\"\"` to remove the label)\n",
    "axes[1].set_ylabel(\"New Label\")\n",
    "\n",
    "\n",
    "# Change sub plot title\n",
    "axes[2].set_title(\"First two residual RSV\")\n",
    "\n",
    "# Add figure title\n",
    "fig.suptitle(\"Residual plots\", fontsize=16)\n",
    "\n",
    "# Better spacing\n",
    "fig.tight_layout()\n",
    "\n",
    "# Add subplot label\n",
    "axes[0].annotate(\"A\", xy=(-0.1, 1), xycoords=\"axes fraction\",fontsize=16)\n"
   ]
  },
  {
   "cell_type": "code",
   "execution_count": null,
   "id": "c97bbe63",
   "metadata": {},
   "outputs": [],
   "source": [
    "from pyglotaran_extras.plotting.plot_residual import plot_residual\n",
    "from pyglotaran_extras.plotting.plot_svd import plot_lsv_residual,plot_rsv_residual\n",
    "\n",
    "def plot_residual_and_svd(result_dataset):\n",
    "    fig, axes = plt.subplots(1, 3, figsize=(10, 2))\n",
    "    plot_residual(result_dataset,axes[0])\n",
    "    axes[0].get_legend().remove()\n",
    "    axes[0].set_ylabel(\"Wavelength (nm)\")\n",
    "    plot_lsv_residual(result_dataset,axes[1], indices=[0])\n",
    "    axes[1].get_legend().remove()\n",
    "    axes[1].set_ylabel(\"\")\n",
    "    axes[1].set_title(\"residual 1st LSV\")\n",
    "    plot_rsv_residual(result_dataset,axes[2], indices=[0])\n",
    "    axes[2].set_xlabel(\"Wavelength (nm)\")\n",
    "    axes[2].set_title(\"residual 1st RSV\")\n",
    "    axes[2].get_legend().remove()\n",
    "    axes[2].set_ylabel(\"\")\n",
    "\n",
    "    return fig, axes\n",
    "\n",
    "fig, axes = plot_residual_and_svd(result.data[\"GFPppH2O\"])\n"
   ]
  },
  {
   "cell_type": "code",
   "execution_count": null,
   "id": "c97bbe63",
   "metadata": {},
   "outputs": [],
   "source": [
    "from pyglotaran_extras.plotting.plot_residual import plot_residual\n",
    "from pyglotaran_extras.plotting.plot_svd import plot_lsv_residual,plot_rsv_residual\n",
    "\n",
    "def plot_residual_and_svd(result_dataset):\n",
    "    fig, axes = plt.subplots(1, 3, figsize=(10, 2))\n",
    "    plot_residual(result_dataset,axes[0])\n",
    "    axes[0].get_legend().remove()\n",
    "    axes[0].set_ylabel(\"Wavelength (nm)\")\n",
    "    plot_lsv_residual(result_dataset,axes[1], indices=[0])\n",
    "    axes[1].get_legend().remove()\n",
    "    axes[1].set_ylabel(\"\")\n",
    "    axes[1].set_title(\"residual 1st LSV\")\n",
    "    plot_rsv_residual(result_dataset,axes[2], indices=[0])\n",
    "    axes[2].set_xlabel(\"Wavelength (nm)\")\n",
    "    axes[2].set_title(\"residual 1st RSV\")\n",
    "    axes[2].get_legend().remove()\n",
    "    axes[2].set_ylabel(\"\")\n",
    "\n",
    "    return fig, axes\n",
    "\n",
    "fig, axes = plot_residual_and_svd(result.data[\"GFPppH2O\"])\n",
    "axes[0].annotate(\"A\", xy=(-0.1, 1), xycoords=\"axes fraction\",fontsize=16)\n",
    "axes[1].annotate(\"B\", xy=(-0.1, 1), xycoords=\"axes fraction\",fontsize=16)\n",
    "axes[2].annotate(\"C\", xy=(-0.1, 1), xycoords=\"axes fraction\",fontsize=16)\n"
   ]
  },
  {
   "attachments": {},
   "cell_type": "markdown",
   "id": "792c78d1",
   "metadata": {},
   "source": [
    "## Refinement by estimation of the laser intensity fluctuations responsible for the residual structure"
   ]
  },
  {
   "cell_type": "code",
   "execution_count": null,
   "id": "5c288167",
   "metadata": {},
   "outputs": [],
   "source": [
    "import numpy as np\n",
    "import xarray as xr\n",
    "\n",
    "alfa=[]\n",
    "for timepoint in result.data[\"GFPppH2O\"].time:\n",
    "    # print(timepoint.item())\n",
    "    y=result.data[\"GFPppH2O\"].residual.sel(time=timepoint)\n",
    "    x=result.data[\"GFPppH2O\"].data.sel(time=timepoint)\n",
    "    # print(x)\n",
    "    alfa.append(np.dot(y,x)/np.dot(x,x))\n",
    "    # break\n",
    "# result.data[\"GFPppH2O\"].residual;result.data[\"GFPppH2O\"].data;result.data[\"GFPppH2O\"].fitted_data\n",
    "xr.DataArray(alfa).plot()\n"
   ]
  },
  {
   "cell_type": "code",
   "execution_count": null,
   "id": "5c288167",
   "metadata": {},
   "outputs": [],
   "source": [
    "import numpy as np\n",
    "import xarray as xr\n",
    "\n",
    "alfa=[]\n",
    "talfa=[]\n",
    "for timepoint in result.data[\"GFPppH2O\"].time:\n",
    "    # print(timepoint.item())\n",
    "    y=result.data[\"GFPppH2O\"].residual.sel(time=timepoint)\n",
    "    x=result.data[\"GFPppH2O\"].fitted_data.sel(time=timepoint)\n",
    "    xtx=np.dot(x,x)\n",
    "    xty=np.dot(x,y)\n",
    "    a=xty/xtx\n",
    "    res=y-a*x\n",
    "    df=len(y)-1\n",
    "    var=np.dot(res,res)/df\n",
    "    ta=a/np.sqrt(var/xtx)\n",
    "    # print(x)\n",
    "    alfa.append(a)\n",
    "    talfa.append(ta)\n",
    "    # break\n",
    "# result.data[\"GFPppH2O\"].residual;result.data[\"GFPppH2O\"].data;result.data[\"GFPppH2O\"].fitted_data\n",
    "talfa_xr=xr.DataArray(talfa,coords={\"time\":result.data[\"GFPppH2O\"].time})\n",
    "alfa_xr=xr.DataArray(alfa,coords={\"time\":result.data[\"GFPppH2O\"].time})\n",
    "alfaraw_xr=alfa_xr\n",
    "alfa_xr[alfa_xr.time<-0.08]=0\n",
    "alfa_xr.plot()\n",
    "talfa_xr.plot()\n"
   ]
  },
  {
   "cell_type": "code",
   "execution_count": null,
   "id": "9ee2208f",
   "metadata": {},
   "outputs": [],
   "source": [
    "alfa_xr.plot()\n"
   ]
  },
  {
   "cell_type": "code",
   "execution_count": null,
   "id": "9ee2208f",
   "metadata": {},
   "outputs": [],
   "source": [
    "alfaraw_xr.plot()\n"
   ]
  },
  {
   "cell_type": "code",
   "execution_count": null,
   "id": "42c75e2a",
   "metadata": {},
   "outputs": [],
   "source": [
    "corrGFPppH2O=result.data[\"GFPppH2O\"].data/(1+alfa_xr)\n",
    "corrGFPppH2O.plot()\n"
   ]
  },
  {
   "cell_type": "code",
   "execution_count": null,
   "id": "42c75e2a",
   "metadata": {},
   "outputs": [],
   "source": [
    "\n",
    "corrGFPppH2O.plot(x=\"time\",y=\"spectral\",size=2)\n"
   ]
  },
  {
   "cell_type": "code",
   "execution_count": null,
   "id": "edacb9ae",
   "metadata": {
    "tags": []
   },
   "outputs": [],
   "source": [
    "# from pyglotaran_extras import plot_data_overview\n",
    "\n",
    "# experiment_data = {\n",
    "#     \"GFPppH2O\": \"data/GFPppH2O_PBS.ascii\",\n",
    "# }\n",
    "\n",
    "# plot_data_overview(experiment_data[\"corrGFPppH2O\"], linlog=True, linthresh=1)\n"
   ]
  },
  {
   "cell_type": "code",
   "execution_count": null,
   "id": "9cbdbbfd",
   "metadata": {},
   "outputs": [],
   "source": [
    "from glotaran.io import save_dataset, save_result\n",
    "save_dataset(corrGFPppH2O,\"data/corrGFPppH2O.ascii\",allow_overwrite=True)\n",
    "experiment_data = {\n",
    "    \"GFPppH2O\": \"data/corrGFPppH2O.ascii\",\n",
    "}\n",
    "\n",
    "plot_data_overview(experiment_data[\"GFPppH2O\"], linlog=True, linthresh=1)\n"
   ]
  },
  {
   "cell_type": "code",
   "execution_count": null,
   "id": "9cbdbbfd",
   "metadata": {},
   "outputs": [],
   "source": [
    "# corrGFPppH2O.to_dataset(name=\"data\").to_netcdf(\"data/corrGFPppH2O.nc\")\n",
    "# experiment_data = {\n",
    "#     \"GFPppH2O\": \"data/corrGFPppH2O.nc\",\n",
    "# }\n",
    "\n",
    "# plot_data_overview(experiment_data[\"GFPppH2O\"], linlog=True, linthresh=1)\n"
   ]
  },
  {
   "cell_type": "code",
   "execution_count": null,
   "id": "24084c84",
   "metadata": {},
   "outputs": [],
   "source": [
    "from glotaran.optimization.optimize import optimize\n",
    "from glotaran.project.scheme import Scheme\n",
    "# model_path = \"models/model5osc.yml\"\n",
    "# parameters_file_path = \"20230113/20230114optimized_parameters.csv\"\n",
    "# model_path = \"models/model_sequential5osc.yml\"\n",
    "# parameters_file_path = \"20230116/20230116optimized_parameters_seq4osc5.csv\"\n",
    "model_path = \"models/model_sequential6osc.yml\"\n",
    "parameters_file_path = \"20230116/20230116optimized_parameters_seq4osc6.csv\"\n",
    "\n",
    "scheme = Scheme(\n",
    "    model_path,\n",
    "    parameters_file_path,\n",
    "    experiment_data,\n",
    "    maximum_number_function_evaluations=7,\n",
    ")\n",
    "result = optimize(scheme)\n"
   ]
  },
  {
   "attachments": {},
   "cell_type": "markdown",
   "id": "d07c4c90",
   "metadata": {},
   "source": [
    " - 8.4975e+02\n",
    " - 3.4393e+02 nev 1\n",
    " - 3.3354e+02 nev 7\n",
    " - 2.4950e+02 nev 7 free DOAS compensation, high damping rates\n",
    " - 3.0936e+02 nev 7 free DOAS, except for the fixed reverse rate\n",
    " - 2.4682e+02 nev 7 free DOAS, and free kinetic.to_S1_from_S2\n",
    " - 2.8790e+02 nev 7 free DOAS, except for the fixed reverse rate at -10, and free kinetic.to_S1_from_S2\n",
    " - 2.7408e+2 nev 7 free DOAS, except for the fixed reverse rate at -15, and free kinetic.to_S1_from_S2\n",
    " - 2.6398e+02 -20\n",
    " - 2.5723e+02 -25\n",
    " - 2.5276e+02 -30\n",
    " -  2.4686e+02 nev 7 free DOAS, and free kinetic.\n",
    " -  2.3976e+02 nev 7 five free DOAS, and free kinetic.\n",
    " -   7         3.2957e+02 seq 4 & 4 DOAS\n",
    " -   7         2.4124e+02 seq 4 & 5 DOAS\n",
    " -   7         2.3768e+02 seq 4 & 6 DOAS\n",
    " -    7        2.3686e+02 seq 4 & 6 DOAS"
   ]
  },
  {
   "cell_type": "code",
   "execution_count": null,
   "id": "8be30fd6",
   "metadata": {},
   "outputs": [],
   "source": [
    "from pyglotaran_extras import plot_overview\n",
    "\n",
    "# fig, axes = plot_overview(result, linlog=True, linthresh=1, figure_only=False,number_of_singular_vectors_residual=1)\n",
    "fig, axes = plot_overview(result, linlog=True, linthresh=1, figure_only=False)\n",
    "\n",
    "# Add thin line at zero to SAS and DAS plots\n",
    "for ax in axes[0:2, 1:3].flatten():\n",
    "    ax.axhline(0, color=\"k\", linewidth=1)\n"
   ]
  },
  {
   "cell_type": "code",
   "execution_count": null,
   "id": "1139ec2a",
   "metadata": {},
   "outputs": [],
   "source": [
    "from pyglotaran_extras.plotting.plot_traces import (\n",
    "    plot_fitted_traces,\n",
    "    select_plot_wavelengths,\n",
    ")\n",
    "from cycler import cycler\n",
    "\n",
    "wavelengths = [406, 445, 510, 601]\n",
    "fig3tr, axes = plot_fitted_traces(\n",
    "    result,\n",
    "    wavelengths,\n",
    "    axes_shape=(2, 2),\n",
    "    linlog=True,\n",
    "    linthresh=0.3,\n",
    "    cycler=cycler(color=[\"r\", \"k\"]), # change plot colors\n",
    "    figsize=(10, 5),\n",
    ")\n",
    "\n",
    "# Add thin line at zero to all plots\n",
    "for ax in axes.flatten():\n",
    "    ax.axhline(0, color=\"k\", linewidth=1)\n"
   ]
  },
  {
   "cell_type": "code",
   "execution_count": null,
   "id": "0ed9ef5b",
   "metadata": {},
   "outputs": [],
   "source": [
    "result.optimized_parameters\n"
   ]
  },
  {
   "attachments": {},
   "cell_type": "markdown",
   "id": "9a48ff8a",
   "metadata": {},
   "source": [
    "Note that DOAS #3,4 have decay rates larger than 50, and most likely belong to the CA.\n",
    " #1,5 with decay rates of 26,16 are in between, and #2 and 6 with  decay rates of 9.6 and 2.6 are the longer lived damped oscillations."
   ]
  },
  {
   "cell_type": "code",
   "execution_count": null,
   "id": "7d71fc78",
   "metadata": {},
   "outputs": [],
   "source": [
    "result\n"
   ]
  },
  {
   "cell_type": "code",
   "execution_count": null,
   "id": "500d099a",
   "metadata": {},
   "outputs": [],
   "source": [
    "save_result(\n",
    "        result=result,\n",
    "        result_path=\"20230130/refinedresult.yaml\",\n",
    "        allow_overwrite=True,\n",
    "    )\n"
   ]
  },
  {
   "attachments": {},
   "cell_type": "markdown",
   "id": "6bac0cc3",
   "metadata": {},
   "source": [
    "# Plot coherent artifact\n"
   ]
  },
  {
   "cell_type": "code",
   "execution_count": null,
   "id": "2f29731c",
   "metadata": {},
   "outputs": [],
   "source": [
    "from pyglotaran_extras import plot_coherent_artifact\n",
    "\n",
    "irfas_plot_wavelength = 550\n",
    "\n",
    "plot_coherent_artifact(\n",
    "    result.data[\"GFPppH2O\"], time_range=(-0.1,0.1), spectral=irfas_plot_wavelength,\n",
    ")\n"
   ]
  },
  {
   "cell_type": "code",
   "execution_count": null,
   "id": "a2cc0ce8",
   "metadata": {},
   "outputs": [],
   "source": [
    "from pyglotaran_extras import plot_doas\n",
    "fig, axes = plot_doas(\n",
    "    result,\n",
    "    damped_oscillation=[\"osc1\", \"osc2\", \"osc5\", \"osc6\"],\n",
    "    time_range=(-0.1, 0.8),\n",
    "    spectral=550,figsize=(10, 3),\n",
    "    # oscillation_type=\"sin\"\n",
    "    # normalize=False\n",
    ")\n",
    "\n",
    "for vline_pos in [415,460]:\n",
    "    axes[1].axvline(vline_pos, color=\"r\", linewidth=1)\n",
    "    axes[2].axvline(vline_pos, color=\"r\", linewidth=1)\n",
    "for vline_pos in [526]:\n",
    "    axes[1].axvline(vline_pos, color=\"g\", linewidth=1)\n",
    "    axes[2].axvline(vline_pos, color=\"g\", linewidth=1)\n",
    "for vline_pos in [393,429,479]:\n",
    "    axes[1].axvline(vline_pos, color=\"b\", linewidth=1)\n",
    "    axes[2].axvline(vline_pos, color=\"b\", linewidth=1)\n",
    "axes[0].set_xlabel(\"Time (ps)\")\n",
    "axes[0].axhline(0, color=\"k\", linewidth=1)\n",
    "axes[0].get_legend().remove()\n",
    "axes[1].set_xlabel(\"Wavelength (nm)\")\n",
    "axes[2].set_xlabel(\"Wavelength (nm)\")\n",
    "axes[1].set_ylabel(\"\")\n",
    "axes[1].set_title(\"DOAS\")\n",
    "axes[0].annotate(\"A\", xy=(0.01, 0.89), xycoords=\"axes fraction\",fontsize=16)\n",
    "axes[1].annotate(\"B\", xy=(0.01, 0.89), xycoords=\"axes fraction\",fontsize=16)\n",
    "axes[2].annotate(\"C\", xy=(0.01, 0.89), xycoords=\"axes fraction\",fontsize=16)\n",
    "\n"
   ]
  },
  {
   "cell_type": "code",
   "execution_count": null,
   "id": "a689c745",
   "metadata": {},
   "outputs": [],
   "source": [
    "result.data[\"GFPppH2O\"].damped_oscillation_frequency\n"
   ]
  },
  {
   "cell_type": "code",
   "execution_count": null,
   "id": "a689c745",
   "metadata": {},
   "outputs": [],
   "source": [
    "result.data[\"GFPppH2O\"].damped_oscillation_rate\n"
   ]
  },
  {
   "cell_type": "code",
   "execution_count": null,
   "id": "829481b1",
   "metadata": {},
   "outputs": [],
   "source": [
    "\n",
    "matrix = result.data[\"GFPppH2O\"].matrix\n",
    "clp = result.data[\"GFPppH2O\"].clp\n",
    "\n",
    "\n",
    "ca_labels = []\n",
    "ca_doas_labels = []\n",
    "doas_labels = []\n",
    "non_doas_labels = []\n",
    "\n",
    "\n",
    "for clp_label in matrix.clp_label:\n",
    "    if clp_label.item().startswith((\"coherent_artifact_\")):\n",
    "        ca_labels.append(clp_label.item())\n",
    "    elif clp_label.item().startswith((\"osc5_\",\"osc4_\",\"osc3_\",\"osc1_\")):\n",
    "    # elif clp_label.item().startswith((\"osc4_\",\"osc3_\")):\n",
    "        ca_doas_labels.append(clp_label.item())\n",
    "    elif clp_label.item().endswith((\"_sin\",\"_cos\")):\n",
    "        doas_labels.append(clp_label.item())\n",
    "    else:\n",
    "        non_doas_labels.append(clp_label.item())\n",
    "\n",
    "print(f\"{doas_labels=}\")\n",
    "print(f\"{ca_labels=}\")\n",
    "print(f\"{ca_doas_labels=}\")\n",
    "print(f\"{non_doas_labels=}\")\n",
    "# matrix.clp_label\n"
   ]
  },
  {
   "cell_type": "code",
   "execution_count": null,
   "id": "fe138e29",
   "metadata": {},
   "outputs": [],
   "source": [
    "from pyglotaran_extras.plotting.utils import add_cycler_if_not_none\n",
    "from pyglotaran_extras.plotting.utils import extract_irf_location\n",
    "from pyglotaran_extras.plotting.utils import shift_time_axis_by_irf_location\n",
    "\n",
    "data_dict = {\n",
    "    \"data\": result.data[\"GFPppH2O\"].data,\n",
    "    \"fitted_data\": result.data[\"GFPppH2O\"].fitted_data,\n",
    "    # \"sum\": (matrix * clp).sum(dim=\"clp_label\"),\n",
    "}\n",
    "\n",
    "for non_doas_label in non_doas_labels:\n",
    "    data_dict[non_doas_label] = (\n",
    "        matrix.sel(clp_label=non_doas_label) * clp.sel(clp_label=non_doas_label)\n",
    "    ).drop(\"clp_label\")\n",
    "\n",
    "data_dict[\"doas\"] = (\n",
    "    (matrix.sel(clp_label=doas_labels) - 1) * clp.sel(clp_label=doas_labels)\n",
    ").sum(dim=\"clp_label\")\n",
    "\n",
    "data_dict[\"CA\"] = (matrix.sel(clp_label=ca_labels) * clp.sel(clp_label=ca_labels)).sum(\n",
    "    dim=\"clp_label\"\n",
    ") + (\n",
    "    (matrix.sel(clp_label=ca_doas_labels) - 1) * clp.sel(clp_label=ca_doas_labels)\n",
    ").sum(\n",
    "    dim=\"clp_label\"\n",
    ")\n",
    "\n",
    "data = xr.Dataset(data_dict)\n",
    "\n",
    "plot_dim = (2, 2)\n",
    "\n",
    "# fig, axes = plt.subplots(*plot_dim, figsize=(21, 14))\n",
    "fig, axes = plt.subplots(*plot_dim, figsize=(14, 8))\n",
    "for ax in axes.flatten():\n",
    "    add_cycler_if_not_none(ax, PlotStyle().cycler)\n",
    "    ax.set_xscale(\"symlog\", linthresh=0.3, linscale=1)\n",
    "\n",
    "wls = np.linspace(\n",
    "    result.data[\"GFPppH2O\"].spectral.min().item(),\n",
    "    result.data[\"GFPppH2O\"].spectral.max().item(),\n",
    "    num=np.prod(plot_dim),\n",
    ")\n",
    "wls=[406, 445, 510, 601]\n",
    "# for ax, wl in zip(axes.flatten(), wls):\n",
    "#     for key in data.data_vars.keys():\n",
    "#         data[key].sel(spectral=wl, method=\"nearest\").plot(x=\"time\", ax=ax, label=key)\n",
    "#         ax.set_xscale(\"symlog\", linthresh=0.3)\n",
    "\n",
    "for ax, wl in zip(axes.flatten(), wls):\n",
    "    for key in data.data_vars.keys():\n",
    "        # Shift by IRF\n",
    "        irf_location = extract_irf_location(result.data[\"GFPppH2O\"], wl)\n",
    "        shift_time_axis_by_irf_location(\n",
    "            data[key].sel(spectral=wl, method=\"nearest\"), irf_location=irf_location\n",
    "        ).plot(x=\"time\", ax=ax, label=key)\n",
    "axes[0][0].legend()\n",
    "axes[0][0].legend()\n",
    "\n",
    "fig.tight_layout()\n"
   ]
  },
  {
   "attachments": {},
   "cell_type": "markdown",
   "id": "502d8498",
   "metadata": {},
   "source": [
    "### TODO shift the time axes!"
   ]
  },
  {
   "attachments": {},
   "cell_type": "markdown",
   "id": "f553f928",
   "metadata": {},
   "source": [
    "### Refining the kinetic model"
   ]
  },
  {
   "cell_type": "code",
   "execution_count": null,
   "id": "500d099a",
   "metadata": {},
   "outputs": [],
   "source": [
    "from glotaran.io import save_dataset, save_result\n",
    "save_result(\n",
    "        result=result,\n",
    "        result_path=\"20230131/refined_result.yaml\",\n",
    "        allow_overwrite=True,\n",
    "    )\n"
   ]
  },
  {
   "attachments": {},
   "cell_type": "markdown",
   "id": "a5762462",
   "metadata": {},
   "source": [
    "Because the red SADS above still contains stimulated emission around 430 nm, a relaxed S2 is introduced, which is populated by 40% of the decaying S2, whereas 60% of S2 converts to S1. With some educated guesses, with the help of spectral constraints, and after some trial and error, reasonable starting values for the additional rate constants have been found. The thus estimated SADS can be interpreted."
   ]
  },
  {
   "cell_type": "code",
   "execution_count": null,
   "id": "24084c84",
   "metadata": {},
   "outputs": [],
   "source": [
    "from glotaran.optimization.optimize import optimize\n",
    "from glotaran.project.scheme import Scheme\n",
    "# model_path = \"models/model5osc.yml\"\n",
    "# parameters_file_path = \"20230113/20230114optimized_parameters.csv\"\n",
    "# model_path = \"models/model_sequential5osc.yml\"\n",
    "# parameters_file_path = \"20230116/20230116optimized_parameters_seq4osc5.csv\"\n",
    "experiment_data = {\n",
    "    \"GFPppH2O\": \"data/corrGFPppH2O.ascii\",\n",
    "}\n",
    "model_path = \"models/model_refined6osc.yml\"\n",
    "parameters_file_path = \"20230131/optimized_parameters_6osc_target.csv\"\n",
    "\n",
    "scheme = Scheme(\n",
    "    model_path,\n",
    "    parameters_file_path,\n",
    "    experiment_data,\n",
    "    maximum_number_function_evaluations=1,\n",
    ")\n",
    "result = optimize(scheme)\n"
   ]
  },
  {
   "cell_type": "code",
   "execution_count": null,
   "id": "9a072adc",
   "metadata": {},
   "outputs": [],
   "source": [
    "result.data[\"GFPppH2O\"].lifetime_decay\n"
   ]
  },
  {
   "cell_type": "code",
   "execution_count": null,
   "id": "82fe2330",
   "metadata": {},
   "outputs": [],
   "source": [
    "result\n"
   ]
  },
  {
   "cell_type": "code",
   "execution_count": null,
   "id": "e0442a65",
   "metadata": {},
   "outputs": [],
   "source": [
    "from pyglotaran_extras.plotting.plot_concentrations import plot_concentrations\n",
    "from pyglotaran_extras.plotting.plot_spectra import plot_sas\n",
    "import matplotlib.pyplot as plt\n",
    "\n",
    "\n",
    "def plot_concentration_and_spectra(result_dataset):\n",
    "    # fig, axes = plt.subplots(1, 2, figsize=(18, 7))\n",
    "    fig, axes = plt.subplots(1, 2, figsize=(15, 4))\n",
    "    plot_concentrations(result_dataset,axes[0], center_λ=0, linlog=True)\n",
    "    plot_sas(result_dataset,axes[1])\n",
    "    return fig, axes\n",
    "\n",
    "fig, axes = plot_concentration_and_spectra(result.data[\"GFPppH2O\"])\n",
    "axes[0].set_xlabel(\"Time (ps)\")\n",
    "axes[0].set_ylabel(\"\")\n",
    "axes[0].axhline(0, color=\"k\", linewidth=1)\n",
    "axes[1].set_xlabel(\"Wavelength (nm)\")\n",
    "axes[1].set_ylabel(\"SADS (mOD)\")\n",
    "axes[1].set_title(\"SADS\")\n",
    "axes[1].axhline(0, color=\"k\", linewidth=1)\n",
    "axes[0].annotate(\"A\", xy=(-0.05, 1.02), xycoords=\"axes fraction\",fontsize=16)\n",
    "axes[1].annotate(\"B\", xy=(-0.05, 1.02), xycoords=\"axes fraction\",fontsize=16)\n"
   ]
  },
  {
   "cell_type": "code",
   "execution_count": null,
   "id": "500d099a",
   "metadata": {},
   "outputs": [],
   "source": [
    "from glotaran.io import save_dataset, save_result\n",
    "save_result(\n",
    "        result=result,\n",
    "        result_path=\"20230131t/target_refined_result.yaml\",\n",
    "        allow_overwrite=True,\n",
    "    )\n"
   ]
  },
  {
   "attachments": {},
   "cell_type": "markdown",
   "id": "9a48ff8a",
   "metadata": {},
   "source": [
    "Note that after permutation, DOAS #5,6 have decay rates larger than 50, and most likely belong to the CA.\n",
    " #1,5 with decay rates of 16,26 are in between, and #2 and 1 with  decay rates of 9.6 and 2.6 are the longer lived damped oscillations.\n",
    "We will now plot the decomposition "
   ]
  },
  {
   "cell_type": "code",
   "execution_count": null,
   "id": "829481b1",
   "metadata": {},
   "outputs": [],
   "source": [
    "\n",
    "matrix = result.data[\"GFPppH2O\"].matrix\n",
    "clp = result.data[\"GFPppH2O\"].clp\n",
    "\n",
    "\n",
    "ca_labels = []\n",
    "ca_doas_labels = []\n",
    "doas_labels = []\n",
    "non_doas_labels = []\n",
    "\n",
    "\n",
    "for clp_label in matrix.clp_label:\n",
    "    if clp_label.item().startswith((\"coherent_artifact_\")):\n",
    "        ca_labels.append(clp_label.item())\n",
    "    elif clp_label.item().startswith((\"osc5_\",\"osc6_\")):\n",
    "    # elif clp_label.item().startswith((\"osc4_\",\"osc3_\",\"osc6_\")):\n",
    "        ca_doas_labels.append(clp_label.item())\n",
    "    elif clp_label.item().endswith((\"_sin\",\"_cos\")):\n",
    "        doas_labels.append(clp_label.item())\n",
    "    else:\n",
    "        non_doas_labels.append(clp_label.item())\n",
    "\n",
    "print(f\"{doas_labels=}\")\n",
    "print(f\"{ca_labels=}\")\n",
    "print(f\"{ca_doas_labels=}\")\n",
    "print(f\"{non_doas_labels=}\")\n",
    "# matrix.clp_label\n"
   ]
  },
  {
   "cell_type": "code",
   "execution_count": null,
   "id": "4c5b5caf",
   "metadata": {},
   "outputs": [],
   "source": [
    "data_dict = {\n",
    "    \"data\": result.data[\"GFPppH2O\"].data,\n",
    "    \"fitted_data\": result.data[\"GFPppH2O\"].fitted_data,\n",
    "    # \"sum\": (matrix * clp).sum(dim=\"clp_label\"),\n",
    "}\n",
    "\n",
    "for non_doas_label in non_doas_labels:\n",
    "    data_dict[non_doas_label] = (\n",
    "        matrix.sel(clp_label=non_doas_label) * clp.sel(clp_label=non_doas_label)\n",
    "    ).drop(\"clp_label\")\n",
    "\n",
    "data_dict[\"doas\"] = (\n",
    "    (matrix.sel(clp_label=doas_labels) - 1) * clp.sel(clp_label=doas_labels)\n",
    ").sum(dim=\"clp_label\")\n",
    "\n",
    "data_dict[\"CA\"] = (matrix.sel(clp_label=ca_labels) * clp.sel(clp_label=ca_labels)).sum(\n",
    "    dim=\"clp_label\"\n",
    ") + (\n",
    "    (matrix.sel(clp_label=ca_doas_labels) - 1) * clp.sel(clp_label=ca_doas_labels)\n",
    ").sum(\n",
    "    dim=\"clp_label\"\n",
    ")\n",
    "\n",
    "data = xr.Dataset(data_dict)\n",
    "\n",
    "plot_dim = (2, 2)\n",
    "\n",
    "# fig, axes = plt.subplots(*plot_dim, figsize=(21, 14))\n",
    "fig, axes = plt.subplots(*plot_dim, figsize=(14, 8))\n",
    "\n",
    "wls = np.linspace(\n",
    "    result.data[\"GFPppH2O\"].spectral.min().item(),\n",
    "    result.data[\"GFPppH2O\"].spectral.max().item(),\n",
    "    num=np.prod(plot_dim),\n",
    ")\n",
    "wls=[406, 445, 510, 601]\n",
    "for ax, wl in zip(axes.flatten(), wls):\n",
    "    for key in data.data_vars.keys():\n",
    "        data[key].sel(spectral=wl, method=\"nearest\").plot(x=\"time\", ax=ax, label=key)\n",
    "        ax.set_xscale(\"symlog\", linthresh=0.3)\n",
    "\n",
    "axes[0][0].legend()\n",
    "\n",
    "fig.tight_layout()\n"
   ]
  },
  {
   "cell_type": "code",
   "execution_count": null,
   "id": "3d81fa19",
   "metadata": {},
   "outputs": [],
   "source": [
    "from cycler import cycler\n",
    "# fig,ax=plt.subplots(1,1)\n",
    "\n",
    "\n",
    "data_dict = {\n",
    "    \"data\": result.data[\"GFPppH2O\"].data,\n",
    "    \"fitted_data\": result.data[\"GFPppH2O\"].fitted_data,\n",
    "    # \"sum\": (matrix * clp).sum(dim=\"clp_label\"),\n",
    "}\n",
    "\n",
    "for non_doas_label in non_doas_labels:\n",
    "    data_dict[non_doas_label] = (\n",
    "        matrix.sel(clp_label=non_doas_label) * clp.sel(clp_label=non_doas_label)\n",
    "    ).drop(\"clp_label\")\n",
    "\n",
    "data_dict[\"doas\"] = (\n",
    "    (matrix.sel(clp_label=doas_labels) - 1) * clp.sel(clp_label=doas_labels)\n",
    ").sum(dim=\"clp_label\")\n",
    "\n",
    "data_dict[\"CA\"] = (matrix.sel(clp_label=ca_labels) * clp.sel(clp_label=ca_labels)).sum(\n",
    "    dim=\"clp_label\"\n",
    ") + (\n",
    "    (matrix.sel(clp_label=ca_doas_labels) - 1) * clp.sel(clp_label=ca_doas_labels)\n",
    ").sum(\n",
    "    dim=\"clp_label\"\n",
    ")\n",
    "\n",
    "data = xr.Dataset(data_dict)\n",
    "\n",
    "plot_dim = (1,1)\n",
    "myFRLcolors=['tab:orange','tab:grey','k', 'r','b','g','m','c','y', 'tab:brown', 'tab:purple']\n",
    "custom_cycler=cycler(color=myFRLcolors)\n",
    "# fig, axes = plt.subplots(*plot_dim, figsize=(21, 14))\n",
    "fig, ax = plt.subplots(*plot_dim, figsize=(8, 4))\n",
    "#\n",
    "wl=510\n",
    "ax.set_prop_cycle(custom_cycler)\n",
    "for key in data.data_vars.keys():\n",
    "        # Shift by IRF\n",
    "    irf_location = extract_irf_location(result.data[\"GFPppH2O\"], wl)\n",
    "    shift_time_axis_by_irf_location(\n",
    "        data[key].sel(spectral=wl, method=\"nearest\"), irf_location=irf_location\n",
    "    ).plot(x=\"time\", ax=ax, label=key)\n",
    "    ax.set_xscale(\"symlog\", linthresh=0.3)\n",
    "\n",
    "\n",
    "\n",
    "# for ax, wl in zip(axes.flatten(), wls):\n",
    "#     for key in data.data_vars.keys():\n",
    "#         data[key].sel(spectral=wl, method=\"nearest\").plot(x=\"time\", ax=ax, label=key)\n",
    "\n",
    "ax.legend(bbox_to_anchor=(0.02,0.95), loc='upper left')\n",
    "ax.set_xlabel(\"Time (ps)\")\n",
    "ax.set_ylabel(\"ΔA(mOD)\")\n",
    "\n",
    "\n",
    "fig.tight_layout()\n"
   ]
  },
  {
   "cell_type": "code",
   "execution_count": null,
   "id": "3d81fa19",
   "metadata": {},
   "outputs": [],
   "source": [
    "from cycler import cycler\n",
    "# fig,ax=plt.subplots(1,1)\n",
    "\n",
    "\n",
    "data_dict = {\n",
    "    \"data\": result.data[\"GFPppH2O\"].data,\n",
    "    \"fitted_data\": result.data[\"GFPppH2O\"].fitted_data,\n",
    "    # \"sum\": (matrix * clp).sum(dim=\"clp_label\"),\n",
    "}\n",
    "\n",
    "for non_doas_label in non_doas_labels:\n",
    "    data_dict[non_doas_label] = (\n",
    "        matrix.sel(clp_label=non_doas_label) * clp.sel(clp_label=non_doas_label)\n",
    "    ).drop(\"clp_label\")\n",
    "\n",
    "data_dict[\"doas\"] = (\n",
    "    (matrix.sel(clp_label=doas_labels) - 1) * clp.sel(clp_label=doas_labels)\n",
    ").sum(dim=\"clp_label\")\n",
    "\n",
    "data_dict[\"CA\"] = (matrix.sel(clp_label=ca_labels) * clp.sel(clp_label=ca_labels)).sum(\n",
    "    dim=\"clp_label\"\n",
    ") + (\n",
    "    (matrix.sel(clp_label=ca_doas_labels) - 1) * clp.sel(clp_label=ca_doas_labels)\n",
    ").sum(\n",
    "    dim=\"clp_label\"\n",
    ")\n",
    "\n",
    "data = xr.Dataset(data_dict)\n",
    "\n",
    "plot_dim = (2,2)\n",
    "myFRLcolors=['tab:orange','tab:grey','k', 'r','b','g','m','c','y', 'tab:brown', 'tab:purple']\n",
    "custom_cycler=cycler(color=myFRLcolors)\n",
    "# fig, axes = plt.subplots(*plot_dim, figsize=(21, 14))\n",
    "fig, axes = plt.subplots(*plot_dim, figsize=(12, 6))\n",
    "#\n",
    "wls=[ 406,450,510,640 ]\n",
    "axes[0][0].set_prop_cycle(custom_cycler)\n",
    "axes[0][1].set_prop_cycle(custom_cycler)\n",
    "axes[1][0].set_prop_cycle(custom_cycler)\n",
    "axes[1][1].set_prop_cycle(custom_cycler)\n",
    "for ax, wl in zip(axes.flatten(), wls):\n",
    "    for key in data.data_vars.keys():\n",
    "        # Shift by IRF\n",
    "        irf_location = extract_irf_location(result.data[\"GFPppH2O\"], wl)\n",
    "        shift_time_axis_by_irf_location(\n",
    "            data[key].sel(spectral=wl, method=\"nearest\"), irf_location=irf_location\n",
    "        ).plot(x=\"time\", ax=ax, label=key)\n",
    "        ax.set_xscale(\"symlog\", linthresh=0.3)\n",
    "\n",
    "\n",
    "\n",
    "# for ax, wl in zip(axes.flatten(), wls):\n",
    "#     for key in data.data_vars.keys():\n",
    "#         data[key].sel(spectral=wl, method=\"nearest\").plot(x=\"time\", ax=ax, label=key)\n",
    "\n",
    "axes[0][0].legend(bbox_to_anchor=(0.02,0.95), loc='upper left')\n",
    "axes[0][0].set_xlabel(\"Time (ps)\")\n",
    "axes[0][0].set_ylabel(\"(mOD)\")\n",
    "\n",
    "\n",
    "fig.tight_layout()\n"
   ]
  },
  {
   "cell_type": "code",
   "execution_count": null,
   "id": "6b6b7172",
   "metadata": {},
   "outputs": [],
   "source": [
    "from pyglotaran_extras.plotting.plot_residual import plot_residual\n",
    "from pyglotaran_extras.plotting.plot_svd import plot_lsv_residual,plot_rsv_residual\n",
    "\n",
    "def plot_residual_and_svd(result_dataset):\n",
    "    fig, axes = plt.subplots(1, 3, figsize=(10, 2))\n",
    "    plot_residual(result_dataset,axes[0])\n",
    "    axes[0].get_legend().remove()\n",
    "    axes[0].set_ylabel(\"Wavelength (nm)\")\n",
    "    plot_lsv_residual(result_dataset,axes[1], indices=[0])\n",
    "    axes[1].get_legend().remove()\n",
    "    axes[1].set_ylabel(\"\")\n",
    "    axes[1].set_title(\"residual 1st LSV\")\n",
    "    plot_rsv_residual(result_dataset,axes[2], indices=[0])\n",
    "    axes[2].set_xlabel(\"Wavelength (nm)\")\n",
    "    axes[2].set_title(\"residual 1st RSV\")\n",
    "    axes[2].get_legend().remove()\n",
    "    axes[2].set_ylabel(\"\")\n",
    "\n",
    "    return fig, axes\n",
    "\n",
    "fig, axes = plot_residual_and_svd(result.data[\"GFPppH2O\"])\n",
    "axes[0].annotate(\"A\", xy=(-0.1, 1), xycoords=\"axes fraction\",fontsize=16)\n",
    "axes[1].annotate(\"B\", xy=(-0.1, 1), xycoords=\"axes fraction\",fontsize=16)\n",
    "axes[2].annotate(\"C\", xy=(-0.1, 1), xycoords=\"axes fraction\",fontsize=16)\n"
   ]
  },
  {
   "cell_type": "code",
   "execution_count": null,
   "id": "08f3abec",
   "metadata": {},
   "outputs": [],
   "source": [
    "from pyglotaran_extras import plot_doas\n",
    "fig, axes = plot_doas(\n",
    "    result,\n",
    "    damped_oscillation=[\"osc1\", \"osc2\", \"osc3\", \"osc4\"],\n",
    "    time_range=(-0.1, 0.6),\n",
    "    spectral=550,figsize=(10, 3),normalize =False\n",
    "    # oscillation_type=\"sin\"\n",
    "    # normalize=False\n",
    "    # ,center_λ=550\n",
    "    # spectral=700,\n",
    ")\n",
    "\n",
    "# for vline_pos in [412,450]:\n",
    "#     axes[1].axvline(vline_pos, color=\"k\", linewidth=1)\n",
    "#     axes[2].axvline(vline_pos, color=\"k\", linewidth=1)\n",
    "for vline_pos in [415,460]:\n",
    "    axes[1].axvline(vline_pos, color=\"r\", linewidth=1)\n",
    "    axes[2].axvline(vline_pos, color=\"r\", linewidth=1)\n",
    "for vline_pos in [526]:\n",
    "    axes[1].axvline(vline_pos, color=\"g\", linewidth=1)\n",
    "    axes[2].axvline(vline_pos, color=\"g\", linewidth=1)\n",
    "for vline_pos in [393,429,479]:\n",
    "    axes[1].axvline(vline_pos, color=\"b\", linewidth=1)\n",
    "    axes[2].axvline(vline_pos, color=\"b\", linewidth=1)\n",
    "axes[0].set_xlabel(\"Time (ps)\")\n",
    "axes[0].axhline(0, color=\"k\", linewidth=1)\n",
    "axes[0].get_legend().remove()\n",
    "axes[1].set_xlabel(\"Wavelength (nm)\")\n",
    "axes[2].set_xlabel(\"Wavelength (nm)\")\n",
    "axes[1].set_ylabel(\"\")\n",
    "axes[1].set_title(\"DOAS\")\n",
    "axes[0].annotate(\"A\", xy=(0.01, 0.89), xycoords=\"axes fraction\",fontsize=16)\n",
    "axes[1].annotate(\"B\", xy=(0.0, 0.89), xycoords=\"axes fraction\",fontsize=16)\n",
    "axes[2].annotate(\"C\", xy=(0.01, 0.89), xycoords=\"axes fraction\",fontsize=16)\n"
   ]
  },
  {
   "cell_type": "code",
   "execution_count": null,
   "id": "8d757225",
   "metadata": {},
   "outputs": [],
   "source": [
    "result.optimized_parameters\n"
   ]
  },
  {
   "attachments": {},
   "cell_type": "markdown",
   "id": "14c29550",
   "metadata": {},
   "source": [
    "## DOAS related data variables\n",
    "\n",
    "damped_oscillation_associated_spectra\n",
    "\n",
    "damped_oscillation_phase\n",
    "\n",
    "damped_oscillation_sin\n",
    "\n",
    "damped_oscillation_cos\n"
   ]
  },
  {
   "cell_type": "code",
   "execution_count": null,
   "id": "6baa6c8a",
   "metadata": {},
   "outputs": [],
   "source": [
    "# set plot size\n",
    "import matplotlib.pyplot as plt\n",
    "from pyglotaran_extras.plotting.style import PlotStyle\n",
    "\n",
    "plot_style = PlotStyle()\n",
    "plt.rc(\"axes\", prop_cycle=plot_style.cycler)\n",
    "plt.rcParams[\"figure.figsize\"] = (21, 14)\n"
   ]
  },
  {
   "attachments": {},
   "cell_type": "markdown",
   "id": "f70644c2",
   "metadata": {},
   "source": [
    "### damped_oscillation_phase\n"
   ]
  },
  {
   "cell_type": "code",
   "execution_count": null,
   "id": "4e122477",
   "metadata": {},
   "outputs": [],
   "source": [
    "result.data[\"GFPppH2O\"][\"damped_oscillation_phase\"].plot.line(x=\"spectral\")\n"
   ]
  },
  {
   "attachments": {},
   "cell_type": "markdown",
   "id": "12b606ee",
   "metadata": {},
   "source": [
    "### Plot a subset\n"
   ]
  },
  {
   "cell_type": "code",
   "execution_count": null,
   "id": "05991dfc",
   "metadata": {},
   "outputs": [],
   "source": [
    "# slice the first 5 damped oscillations\n",
    "# result.data[\"GFPppH2O\"][\"damped_oscillation_phase\"].isel(\n",
    "#     damped_oscillation=slice(0, 5)\n",
    "# ).plot.line(x=\"spectral\", ylim=(-8, 10));\n"
   ]
  },
  {
   "cell_type": "code",
   "execution_count": null,
   "id": "c9882c21",
   "metadata": {},
   "outputs": [],
   "source": [
    "# or select by name\n",
    "# result.data[\"GFPppH2O\"][\"damped_oscillation_phase\"].sel(\n",
    "#     damped_oscillation=[\"osc8\", \"osc9\",\n",
    "#     ]\n",
    "# ).plot.line(x=\"spectral\", ylim=(-8, 10));\n"
   ]
  },
  {
   "attachments": {},
   "cell_type": "markdown",
   "id": "948c5cfd",
   "metadata": {},
   "source": [
    "### damped_oscillation_associated_spectra\n"
   ]
  },
  {
   "cell_type": "code",
   "execution_count": null,
   "id": "2a8e1181",
   "metadata": {},
   "outputs": [],
   "source": [
    "result.data[\"GFPppH2O\"][\"damped_oscillation_associated_spectra\"].plot.line(x=\"spectral\")\n"
   ]
  },
  {
   "cell_type": "code",
   "execution_count": null,
   "id": "9082cbc1",
   "metadata": {},
   "outputs": [],
   "source": [
    "result.data[\"GFPppH2O\"][\"damped_oscillation_associated_spectra\"].sel(\n",
    "    damped_oscillation=[\"osc1\", \"osc2\", \"osc3\"]\n",
    ").plot.line(x=\"spectral\")\n"
   ]
  },
  {
   "attachments": {},
   "cell_type": "markdown",
   "id": "7ae34422",
   "metadata": {},
   "source": [
    "Scaling: Multiply maxima of time and spectral\n"
   ]
  },
  {
   "cell_type": "code",
   "execution_count": null,
   "id": "607e4733",
   "metadata": {},
   "outputs": [],
   "source": [
    "result.data[\"GFPppH2O\"][\"damped_oscillation_cos\"].sel(\n",
    "    spectral=550, method=\"nearest\"\n",
    ").sel(damped_oscillation=[\"osc1\", \"osc2\", \"osc3\"], time=slice(0, 1.6)).plot.line(x=\"time\")\n"
   ]
  },
  {
   "cell_type": "code",
   "execution_count": null,
   "id": "f2aca38e",
   "metadata": {},
   "outputs": [],
   "source": [
    "result.data[\"GFPppH2O\"][\"damped_oscillation_sin\"].isel(time=slice(0, 200)).sel(\n",
    "    spectral=550, method=\"nearest\"\n",
    ").plot.line(x=\"time\")\n"
   ]
  },
  {
   "cell_type": "code",
   "execution_count": null,
   "id": "4ac63084",
   "metadata": {},
   "outputs": [],
   "source": [
    "result.data[\"GFPppH2O\"][\"damped_oscillation_cos\"].isel(time=slice(30, 350)).isel(\n",
    "    damped_oscillation=slice(0, 4)\n",
    ").sel(spectral=550, method=\"nearest\").sel(\n",
    "    # damped_oscillation=[\"osc2\", \"osc18\"]\n",
    "    damped_oscillation=[\"osc1\"]\n",
    ").plot.line(\n",
    "    x=\"time\"\n",
    ")\n"
   ]
  },
  {
   "cell_type": "code",
   "execution_count": null,
   "id": "0ef8d836",
   "metadata": {},
   "outputs": [],
   "source": [
    "result.data[\"GFPppH2O\"][\"damped_oscillation_sin\"].isel(time=slice(30, 500)).sel(\n",
    "    damped_oscillation=\"osc3\"\n",
    ").plot(center=False)\n"
   ]
  },
  {
   "cell_type": "code",
   "execution_count": null,
   "id": "9bab8687",
   "metadata": {},
   "outputs": [],
   "source": [
    "result.data[\"GFPppH2O\"][\"damped_oscillation_cos\"].isel(time=slice(120, 300)).sel(\n",
    "    damped_oscillation=[\"osc1\", \"osc2\", \"osc3\"]\n",
    ").sel(spectral=550, method=\"nearest\").plot.line(x=\"time\")\n",
    "result.data[\"GFPppH2O\"][\"damped_oscillation_sin\"].isel(time=slice(120, 300)).sel(\n",
    "    damped_oscillation=[\"osc1\", \"osc2\", \"osc3\"]\n",
    ").sel(spectral=550, method=\"nearest\").plot.line(x=\"time\")\n"
   ]
  },
  {
   "attachments": {},
   "cell_type": "markdown",
   "id": "da468e57",
   "metadata": {},
   "source": [
    "# Interactive Plots\n",
    "\n",
    "_Uncomment the code in the cell below if `ipywidgets` are not installed_"
   ]
  },
  {
   "cell_type": "code",
   "execution_count": null,
   "id": "ac3d6715",
   "metadata": {},
   "outputs": [],
   "source": [
    "# !pip install ipywidgets\n"
   ]
  },
  {
   "cell_type": "code",
   "execution_count": null,
   "id": "4e83ccb3",
   "metadata": {},
   "outputs": [],
   "source": [
    "from __future__ import annotations\n",
    "\n",
    "from ipywidgets import interact, widgets\n",
    "import numpy as np\n"
   ]
  },
  {
   "cell_type": "code",
   "execution_count": null,
   "id": "6952dd75",
   "metadata": {},
   "outputs": [],
   "source": [
    "dataset = result.data[\"GFPppH2O\"][\"damped_oscillation_cos\"]\n",
    "\n",
    "time_slider = widgets.FloatRangeSlider(\n",
    "    value=[-0.1, 0.5],\n",
    "    min=dataset.time.min(),\n",
    "    max=2,\n",
    "    step=0.01,\n",
    "    description=\"time:\",\n",
    "    continuous_update=False,\n",
    "    orientation=\"horizontal\",\n",
    "    readout=True,\n",
    "    readout_format=\".2f\",\n",
    "    layout=widgets.Layout(width=\"50%\"),\n",
    ")\n",
    "spectral_slider = widgets.FloatSlider(\n",
    "    value=500,\n",
    "    min=dataset.spectral.min(),\n",
    "    max=dataset.spectral.max(),\n",
    "    step=0.1,\n",
    "    description=\"spectral:\",\n",
    "    continuous_update=False,\n",
    "    orientation=\"horizontal\",\n",
    "    readout=True,\n",
    "    readout_format=\".2f\",\n",
    "    layout=widgets.Layout(width=\"50%\"),\n",
    ")\n"
   ]
  },
  {
   "cell_type": "code",
   "execution_count": null,
   "id": "7527eb51",
   "metadata": {},
   "outputs": [],
   "source": [
    "doas_select = widgets.SelectMultiple(\n",
    "    options=list(dataset.damped_oscillation.values),\n",
    "    value=list(dataset.damped_oscillation.values[:5]),\n",
    "    # rows=10,\n",
    "    description=\"DOAS\",\n",
    "    layout=widgets.Layout(\n",
    "        height=f\"{1.2*len(list(dataset.damped_oscillation.values))}em\"\n",
    "    ),\n",
    ")\n"
   ]
  },
  {
   "cell_type": "code",
   "execution_count": null,
   "id": "433a073f",
   "metadata": {},
   "outputs": [],
   "source": [
    "def plot_func_factory(dataset: xr.DataArray):\n",
    "    time = dataset.time\n",
    "\n",
    "    def wrapper(spectral: float, time_range: tuple[float, float], doas: list[str]):\n",
    "        time_mask = np.logical_and(time >= time_range[0], time <= time_range[1])\n",
    "        doas_mask = np.isin(dataset.damped_oscillation, doas)\n",
    "        dataset.isel(time=time_mask, damped_oscillation=doas_mask).sel(\n",
    "            spectral=spectral, method=\"nearest\"\n",
    "        ).plot.line(x=\"time\")\n",
    "        plt.show()\n",
    "\n",
    "    return wrapper\n",
    "\n",
    "\n",
    "plot_cos = plot_func_factory(result.data[\"GFPppH2O\"][\"damped_oscillation_cos\"])\n",
    "\n",
    "interact(plot_cos, spectral=spectral_slider, time_range=time_slider, doas=doas_select)\n"
   ]
  },
  {
   "cell_type": "code",
   "execution_count": null,
   "id": "12916124",
   "metadata": {},
   "outputs": [],
   "source": []
  }
 ],
 "metadata": {
  "kernelspec": {
   "display_name": "Python 3.10.6 ('pyglotaran_310_pip')",
   "language": "python",
   "name": "python3"
  },
  "language_info": {
   "codemirror_mode": {
    "name": "ipython",
    "version": 3
   },
   "file_extension": ".py",
   "mimetype": "text/x-python",
   "name": "python",
   "nbconvert_exporter": "python",
   "pygments_lexer": "ipython3",
   "version": "3.10.6"
  },
  "toc-showtags": false,
  "vscode": {
   "interpreter": {
    "hash": "c96939a00adbd8139175687d27213cba589faa8203f47f613c3350e59358e0cf"
   }
  }
 },
 "nbformat": 4,
 "nbformat_minor": 5
}
